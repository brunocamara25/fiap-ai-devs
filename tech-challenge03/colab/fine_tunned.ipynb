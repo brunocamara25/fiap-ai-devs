{
 "cells": [
  {
   "cell_type": "code",
   "execution_count": null,
   "id": "d6984c6c",
   "metadata": {},
   "outputs": [],
   "source": [
    "# ===============================\n",
    "# 📦 Montar o Drive\n",
    "# ===============================\n",
    "from google.colab import drive\n",
    "drive.mount('/content/drive')"
   ]
  },
  {
   "cell_type": "code",
   "execution_count": null,
   "id": "a6bebb66",
   "metadata": {},
   "outputs": [],
   "source": [
    "# ===============================\n",
    "# 📦 Instalar Dependências\n",
    "# ===============================\n",
    "!pip install \"unsloth[colab-new] @ git+https://github.com/unslothai/unsloth.git\"\n",
    "!pip install --no-deps xformers \"trl<0.9.0\" peft accelerate bitsandbytes\n",
    "!pip install transformers datasets trl"
   ]
  },
  {
   "cell_type": "code",
   "execution_count": null,
   "id": "a6697fd7",
   "metadata": {},
   "outputs": [],
   "source": [
    "MODEL_PATH_DATASET = \"/content/drive/MyDrive/TechChallenge3/model/\""
   ]
  },
  {
   "cell_type": "code",
   "execution_count": null,
   "id": "91f7c229",
   "metadata": {},
   "outputs": [],
   "source": [
    "# ===============================\n",
    "# 🔁 Recarregar Modelo Treinado para Inferência\n",
    "# ===============================\n",
    "from unsloth import FastLanguageModel\n",
    "from transformers import AutoTokenizer\n",
    "\n",
    "model, tokenizer = FastLanguageModel.from_pretrained(\n",
    "    model_name = MODEL_PATH_DATASET,\n",
    "    max_seq_length = 1024,\n",
    "    dtype = None,\n",
    "    load_in_4bit = True,\n",
    ")\n",
    "FastLanguageModel.for_inference(model)"
   ]
  },
  {
   "cell_type": "code",
   "execution_count": null,
   "id": "323ad3e4",
   "metadata": {},
   "outputs": [],
   "source": [
    "# ===============================\n",
    "# 💬 Função de Pergunta com Contexto (formato do desafio)\n",
    "# ===============================\n",
    "def gerar_resposta_usuario(pergunta, titulo_produto):\n",
    "    prompt = f\"\"\"### Instrução:\n",
    "{pergunta}\n",
    "### Produto:\n",
    "{titulo_produto}\n",
    "### Resposta:\"\"\"\n",
    "    inputs = tokenizer(prompt, return_tensors=\"pt\").to(\"cuda\")\n",
    "    outputs = model.generate(**inputs, max_new_tokens=150)\n",
    "    return tokenizer.decode(outputs[0], skip_special_tokens=True)\n",
    "\n",
    "# 💡 Exemplo de teste com pergunta\n",
    "print(\"🔎 Resultado DEPOIS do treino:\")\n",
    "print(gerar_resposta_usuario(\n",
    "    \"Qual é a descrição do produto?\",\n",
    "    \"Why Don't They Just Quit? DVD Roundtable Discussion\"\n",
    "))"
   ]
  }
 ],
 "metadata": {
  "language_info": {
   "name": "python"
  }
 },
 "nbformat": 4,
 "nbformat_minor": 5
}
